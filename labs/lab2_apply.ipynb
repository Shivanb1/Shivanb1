{
 "cells": [
  {
   "cell_type": "code",
   "execution_count": 13,
   "id": "4e9cba4e",
   "metadata": {},
   "outputs": [
    {
     "data": {
      "text/plain": [
       "'1.2.4'"
      ]
     },
     "execution_count": 13,
     "metadata": {},
     "output_type": "execute_result"
    }
   ],
   "source": [
    "import pandas as pd\n",
    "import math\n",
    "pd.__version__"
   ]
  },
  {
   "cell_type": "markdown",
   "id": "91f73c6b",
   "metadata": {},
   "source": [
    "CSV is based on \n",
    "https://www.bowl.com/Open_Championships/Open_Championships_Home/Past_Results_and_History/\n",
    "\n",
    "Load the file into Pandas"
   ]
  },
  {
   "cell_type": "code",
   "execution_count": 17,
   "id": "f12bbd76",
   "metadata": {},
   "outputs": [],
   "source": [
    "data_url = \"https://raw.githubusercontent.com/msaricaumbc/DS601_Fall21/main/Week04/data/bowling_stats.csv\"\n",
    "\n",
    "df = pd.read_csv(data_url, names=[1,2,3,4,5])\n",
    "years = []\n",
    "cities =  []\n",
    "states = []\n",
    "result = []\n",
    "for i in df.itertuples():\n",
    "    bool = pd.isnull(i[5])\n",
    "    if bool is True:\n",
    "            count =i[4]\n",
    "    else:\n",
    "            count = i[4]*1000 + i[5]\n",
    "            years.append(i[1])\n",
    "            cities.append(i[2])\n",
    "            states.append(i[3])\n",
    "            if math.isnan(count):\n",
    "                  result.append(\"null\")\n",
    "            else:\n",
    "                result.append(int(count))\n",
    "final_df = pd.DataFrame({'Year': years, 'City': cities, 'State': states, 'Count' : result})\n",
    "final_df.index = final_df.index + 1"
   ]
  },
  {
   "cell_type": "code",
   "execution_count": 18,
   "id": "70ba7752",
   "metadata": {},
   "outputs": [
    {
     "data": {
      "text/html": [
       "<div>\n",
       "<style scoped>\n",
       "    .dataframe tbody tr th:only-of-type {\n",
       "        vertical-align: middle;\n",
       "    }\n",
       "\n",
       "    .dataframe tbody tr th {\n",
       "        vertical-align: top;\n",
       "    }\n",
       "\n",
       "    .dataframe thead th {\n",
       "        text-align: right;\n",
       "    }\n",
       "</style>\n",
       "<table border=\"1\" class=\"dataframe\">\n",
       "  <thead>\n",
       "    <tr style=\"text-align: right;\">\n",
       "      <th></th>\n",
       "      <th>Year</th>\n",
       "      <th>City</th>\n",
       "      <th>State</th>\n",
       "      <th>Count</th>\n",
       "    </tr>\n",
       "  </thead>\n",
       "  <tbody>\n",
       "    <tr>\n",
       "      <th>1</th>\n",
       "      <td>2018</td>\n",
       "      <td>Syracuse</td>\n",
       "      <td>N.Y.</td>\n",
       "      <td>7556</td>\n",
       "    </tr>\n",
       "    <tr>\n",
       "      <th>2</th>\n",
       "      <td>2017</td>\n",
       "      <td>Las Vegas</td>\n",
       "      <td>Nev.</td>\n",
       "      <td>10286</td>\n",
       "    </tr>\n",
       "    <tr>\n",
       "      <th>3</th>\n",
       "      <td>2016</td>\n",
       "      <td>Reno</td>\n",
       "      <td>Nev.</td>\n",
       "      <td>8063</td>\n",
       "    </tr>\n",
       "    <tr>\n",
       "      <th>4</th>\n",
       "      <td>2015</td>\n",
       "      <td>El Paso</td>\n",
       "      <td>Texas</td>\n",
       "      <td>7315</td>\n",
       "    </tr>\n",
       "    <tr>\n",
       "      <th>5</th>\n",
       "      <td>2014</td>\n",
       "      <td>Reno</td>\n",
       "      <td>Nev.</td>\n",
       "      <td>9024</td>\n",
       "    </tr>\n",
       "    <tr>\n",
       "      <th>...</th>\n",
       "      <td>...</td>\n",
       "      <td>...</td>\n",
       "      <td>...</td>\n",
       "      <td>...</td>\n",
       "    </tr>\n",
       "    <tr>\n",
       "      <th>90</th>\n",
       "      <td>1926</td>\n",
       "      <td>Toledo</td>\n",
       "      <td>Ohio</td>\n",
       "      <td>1876</td>\n",
       "    </tr>\n",
       "    <tr>\n",
       "      <th>91</th>\n",
       "      <td>1925</td>\n",
       "      <td>Buffalo</td>\n",
       "      <td>N.Y.</td>\n",
       "      <td>2200</td>\n",
       "    </tr>\n",
       "    <tr>\n",
       "      <th>92</th>\n",
       "      <td>1924</td>\n",
       "      <td>Chicago</td>\n",
       "      <td>Ill.</td>\n",
       "      <td>2132</td>\n",
       "    </tr>\n",
       "    <tr>\n",
       "      <th>93</th>\n",
       "      <td>1923</td>\n",
       "      <td>Milwaukee</td>\n",
       "      <td>Wis.</td>\n",
       "      <td>1956</td>\n",
       "    </tr>\n",
       "    <tr>\n",
       "      <th>94</th>\n",
       "      <td>1922</td>\n",
       "      <td>Toledo</td>\n",
       "      <td>Ohio</td>\n",
       "      <td>1126</td>\n",
       "    </tr>\n",
       "  </tbody>\n",
       "</table>\n",
       "<p>94 rows × 4 columns</p>\n",
       "</div>"
      ],
      "text/plain": [
       "    Year        City   State  Count\n",
       "1   2018    Syracuse    N.Y.   7556\n",
       "2   2017   Las Vegas    Nev.  10286\n",
       "3   2016        Reno    Nev.   8063\n",
       "4   2015     El Paso   Texas   7315\n",
       "5   2014        Reno    Nev.   9024\n",
       "..   ...         ...     ...    ...\n",
       "90  1926      Toledo    Ohio   1876\n",
       "91  1925     Buffalo    N.Y.   2200\n",
       "92  1924     Chicago    Ill.   2132\n",
       "93  1923   Milwaukee    Wis.   1956\n",
       "94  1922      Toledo    Ohio   1126\n",
       "\n",
       "[94 rows x 4 columns]"
      ]
     },
     "execution_count": 18,
     "metadata": {},
     "output_type": "execute_result"
    }
   ],
   "source": [
    "final_df"
   ]
  },
  {
   "cell_type": "code",
   "execution_count": 77,
   "id": "2488c9e3",
   "metadata": {},
   "outputs": [
    {
     "ename": "SyntaxError",
     "evalue": "invalid syntax (<ipython-input-77-3784f3f63373>, line 19)",
     "output_type": "error",
     "traceback": [
      "\u001b[0;36m  File \u001b[0;32m\"<ipython-input-77-3784f3f63373>\"\u001b[0;36m, line \u001b[0;32m19\u001b[0m\n\u001b[0;31m    df_graph = pd.DataFrame(result, index=years,columns=['count'])\u001b[0m\n\u001b[0m    ^\u001b[0m\n\u001b[0;31mSyntaxError\u001b[0m\u001b[0;31m:\u001b[0m invalid syntax\n"
     ]
    }
   ],
   "source": [
    "import matplotlib.pyplot as plt \n",
    "\n",
    "df_graph\n",
    "years =[]\n",
    "result =[]\n",
    "for i in final_df.itertuples():\n",
    "    \n",
    "    if  i[1] == '1943-45':\n",
    "            year = 1942 \n",
    "            for j in range(1,4):\n",
    "                years.append(int(1942 + j))\n",
    "            result.append(0)\n",
    "    elif i[4] == 'null':\n",
    "            years.append(int(i[1]))\n",
    "            result.append(0)\n",
    "    else:\n",
    "            years.append(int(i[1]))\n",
    "            result.append(int(i[4])\n",
    "df_graph = pd.DataFrame(result, index=years,columns=['count'])\n",
    "df_graph.plot.bar(figuresize=(40,12))\n",
    "plt.title('Matches held yearwise')\n",
    "plt.xlabel('Year')\n",
    "plt.ylabel('count')\n",
    "plt.show()"
   ]
  },
  {
   "cell_type": "code",
   "execution_count": null,
   "id": "057313d5",
   "metadata": {},
   "outputs": [],
   "source": []
  },
  {
   "cell_type": "code",
   "execution_count": null,
   "id": "6db3c49b",
   "metadata": {},
   "outputs": [],
   "source": []
  }
 ],
 "metadata": {
  "kernelspec": {
   "display_name": "Python 3",
   "language": "python",
   "name": "python3"
  },
  "language_info": {
   "codemirror_mode": {
    "name": "ipython",
    "version": 3
   },
   "file_extension": ".py",
   "mimetype": "text/x-python",
   "name": "python",
   "nbconvert_exporter": "python",
   "pygments_lexer": "ipython3",
   "version": "3.8.8"
  },
  "toc": {
   "base_numbering": 1,
   "nav_menu": {},
   "number_sections": true,
   "sideBar": true,
   "skip_h1_title": false,
   "title_cell": "Table of Contents",
   "title_sidebar": "Contents",
   "toc_cell": false,
   "toc_position": {},
   "toc_section_display": true,
   "toc_window_display": false
  }
 },
 "nbformat": 4,
 "nbformat_minor": 5
}
