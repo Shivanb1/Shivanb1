{
 "cells": [
  {
   "cell_type": "code",
   "execution_count": null,
   "id": "76f35cef",
   "metadata": {},
   "outputs": [],
   "source": [
    "###Based on data, what can we tell about this person?\n",
    "\n",
    "1.Is this a work computer/personal computer?\n",
    "2.Is he employed?\n",
    "3.What is his interests?\n",
    "4.Anything interesting?\n",
    "\n",
    "\n",
    "1A. This a work computer.Hence, We couldnot find much of other activities on the computer.\n",
    "2A. No,Because the data shows more of student works like github for example on the system which gives clarity about the work of the person.\n",
    "3A. Interests could be listed as Youtube as it is used the most out of netflix,amazon and other entertainment websites.\n",
    "    Also,there has been excessive use of github and stackovers on the system showing their interest on this work as well.\n",
    "4A. Unforntunately,there is nothing of much interest on the computer as it seems to be work computer where in entertainment sites have least preference and have less views respectively.\n",
    "    "
   ]
  },
  {
   "cell_type": "code",
   "execution_count": null,
   "id": "44826688",
   "metadata": {},
   "outputs": [],
   "source": [
    "###What do you think about this assignment? \n",
    "\n",
    "This assisgment has been interesting enugh from daily homeworks that we have been doing since weeks.This could be referred as an refreshment from normal work that has been assigned all these weeks.\n",
    "Also,this shows how fascinatingly professor has decided to give some fun work to students which includes analysing their interests along with work of use.\n"
   ]
  }
 ],
 "metadata": {
  "kernelspec": {
   "display_name": "Python 3",
   "language": "python",
   "name": "python3"
  },
  "language_info": {
   "codemirror_mode": {
    "name": "ipython",
    "version": 3
   },
   "file_extension": ".py",
   "mimetype": "text/x-python",
   "name": "python",
   "nbconvert_exporter": "python",
   "pygments_lexer": "ipython3",
   "version": "3.8.8"
  }
 },
 "nbformat": 4,
 "nbformat_minor": 5
}
