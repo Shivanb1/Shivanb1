{
 "cells": [
  {
   "cell_type": "markdown",
   "id": "b47b349d",
   "metadata": {},
   "source": [
    "# Week4 - HW 2\n",
    "\n",
    "## Due Wednesday before class\n",
    "\n",
    "1. Acquire power data (https://www.bmreports.com/bmrs/?q=demand/rollingsystemdemanda) for at least 10 days and not more than 40 days. \n",
    "\n",
    "1. Create two bar graphs of the power consumption per hour. \n",
    "    a. One bar graph has 24 bars; \n",
    "    b. one bar graph has 24 times number of days bars. \n",
    "\n",
    "1. Your solution should be committed in your Week04 folder.\n",
    "\n",
    "Graphs must have appropriate labels and there should not be anything extra cluttering. "
   ]
  },
  {
   "cell_type": "code",
   "execution_count": 11,
   "id": "ba276b3d",
   "metadata": {},
   "outputs": [],
   "source": [
    "import pandas as pd\n",
    "from datetime import datetime\n"
   ]
  },
  {
   "cell_type": "code",
   "execution_count": 13,
   "id": "b107ea1e",
   "metadata": {},
   "outputs": [
    {
     "name": "stdout",
     "output_type": "stream",
     "text": [
      "                HDR  ROLLING SYSTEM DEMAND\n",
      "VD   20210907000000                24683.0\n",
      "VD   20210907000500                24452.0\n",
      "VD   20210907001000                24270.0\n",
      "VD   20210907001500                24224.0\n",
      "VD   20210907002000                24112.0\n",
      "..              ...                    ...\n",
      "VD   20210913222000                24913.0\n",
      "VD   20210913222500                24512.0\n",
      "VD   20210913223000                24291.0\n",
      "VD   20210913223500                24254.0\n",
      "FTR            2000                    NaN\n",
      "\n",
      "[2001 rows x 2 columns]\n"
     ]
    }
   ],
   "source": [
    "\n",
    "df = pd.read_csv(\"RollingSystemDemand_20210929_0417 3.csv\")\n",
    "df\n",
    "print(df)"
   ]
  },
  {
   "cell_type": "code",
   "execution_count": 14,
   "id": "28d0cd1e",
   "metadata": {},
   "outputs": [
    {
     "data": {
      "text/plain": [
       "Index(['HDR', 'ROLLING SYSTEM DEMAND'], dtype='object')"
      ]
     },
     "execution_count": 14,
     "metadata": {},
     "output_type": "execute_result"
    }
   ],
   "source": [
    "df.columns"
   ]
  },
  {
   "cell_type": "code",
   "execution_count": 15,
   "id": "9c4bded1",
   "metadata": {},
   "outputs": [
    {
     "data": {
      "text/html": [
       "<div>\n",
       "<style scoped>\n",
       "    .dataframe tbody tr th:only-of-type {\n",
       "        vertical-align: middle;\n",
       "    }\n",
       "\n",
       "    .dataframe tbody tr th {\n",
       "        vertical-align: top;\n",
       "    }\n",
       "\n",
       "    .dataframe thead th {\n",
       "        text-align: right;\n",
       "    }\n",
       "</style>\n",
       "<table border=\"1\" class=\"dataframe\">\n",
       "  <thead>\n",
       "    <tr style=\"text-align: right;\">\n",
       "      <th></th>\n",
       "      <th>date</th>\n",
       "      <th>demand</th>\n",
       "    </tr>\n",
       "  </thead>\n",
       "  <tbody>\n",
       "    <tr>\n",
       "      <th>VD</th>\n",
       "      <td>20210907000000</td>\n",
       "      <td>24683.0</td>\n",
       "    </tr>\n",
       "    <tr>\n",
       "      <th>VD</th>\n",
       "      <td>20210907000500</td>\n",
       "      <td>24452.0</td>\n",
       "    </tr>\n",
       "    <tr>\n",
       "      <th>VD</th>\n",
       "      <td>20210907001000</td>\n",
       "      <td>24270.0</td>\n",
       "    </tr>\n",
       "    <tr>\n",
       "      <th>VD</th>\n",
       "      <td>20210907001500</td>\n",
       "      <td>24224.0</td>\n",
       "    </tr>\n",
       "    <tr>\n",
       "      <th>VD</th>\n",
       "      <td>20210907002000</td>\n",
       "      <td>24112.0</td>\n",
       "    </tr>\n",
       "    <tr>\n",
       "      <th>...</th>\n",
       "      <td>...</td>\n",
       "      <td>...</td>\n",
       "    </tr>\n",
       "    <tr>\n",
       "      <th>VD</th>\n",
       "      <td>20210913222000</td>\n",
       "      <td>24913.0</td>\n",
       "    </tr>\n",
       "    <tr>\n",
       "      <th>VD</th>\n",
       "      <td>20210913222500</td>\n",
       "      <td>24512.0</td>\n",
       "    </tr>\n",
       "    <tr>\n",
       "      <th>VD</th>\n",
       "      <td>20210913223000</td>\n",
       "      <td>24291.0</td>\n",
       "    </tr>\n",
       "    <tr>\n",
       "      <th>VD</th>\n",
       "      <td>20210913223500</td>\n",
       "      <td>24254.0</td>\n",
       "    </tr>\n",
       "    <tr>\n",
       "      <th>FTR</th>\n",
       "      <td>2000</td>\n",
       "      <td>NaN</td>\n",
       "    </tr>\n",
       "  </tbody>\n",
       "</table>\n",
       "<p>2001 rows × 2 columns</p>\n",
       "</div>"
      ],
      "text/plain": [
       "               date   demand\n",
       "VD   20210907000000  24683.0\n",
       "VD   20210907000500  24452.0\n",
       "VD   20210907001000  24270.0\n",
       "VD   20210907001500  24224.0\n",
       "VD   20210907002000  24112.0\n",
       "..              ...      ...\n",
       "VD   20210913222000  24913.0\n",
       "VD   20210913222500  24512.0\n",
       "VD   20210913223000  24291.0\n",
       "VD   20210913223500  24254.0\n",
       "FTR            2000      NaN\n",
       "\n",
       "[2001 rows x 2 columns]"
      ]
     },
     "execution_count": 15,
     "metadata": {},
     "output_type": "execute_result"
    }
   ],
   "source": [
    "df.columns=['date', 'demand',]\n",
    "df"
   ]
  },
  {
   "cell_type": "code",
   "execution_count": 19,
   "id": "8f7f7361",
   "metadata": {},
   "outputs": [
    {
     "name": "stdout",
     "output_type": "stream",
     "text": [
      "[289791.0, 280516.0, 277825.0, 274702.0, 285821.0, 318960.0, 358431.0, 373296.0, 372037.0, 362023.0, 358491.0, 362873.0, 359275.0, 357319.0, 359489.0, 378710.0, 398593.0, 404446.0, 398529.0, 394454.0, 369608.0, 339235.0, 309454.0, 288665.0, 277201.0, 275600.0, 272105.0, 273195.0, 272993.0, 305391.0, 348864.0, 365920.0, 361634.0, 357053.0, 353521.0, 352741.0, 349193.0, 349735.0, 354011.0, 375232.0, 396326.0, 402828.0, 403637.0, 400021.0, 374953.0, 355315.0, 330293.0, 306221.0, 290858.0, 286402.0, 283186.0, 283410.0, 293285.0, 326940.0, 360291.0, 377059.0, 381687.0, 377106.0, 374904.0, 375283.0, 370807.0, 365241.0, 364391.0, 386865.0, 402620.0, 405807.0, 403326.0, 395283.0, 374328.0, 352543.0, 327308.0, 304539.0, 289802.0, 283238.0, 278235.0, 279605.0, 285929.0, 324573.0, 358057.0, 374744.0, 379886.0, 375526.0, 377173.0, 376707.0, 371103.0, 363975.0, 361347.0, 371491.0, 385964.0, 390062.0, 388970.0, 378719.0, 357470.0, 331197.0, 301189.0, 275764.0, 270797.0, 266223.0, 258651.0, 256048.0, 258977.0, 268224.0, 287115.0, 314220.0, 321022.0, 318801.0, 314204.0, 309900.0, 302745.0, 289991.0, 290034.0, 305165.0, 330400.0, 347754.0, 352181.0, 350437.0, 335128.0, 308321.0, 280828.0, 260117.0, 250485.0, 247555.0, 248026.0, 247111.0, 244516.0, 251182.0, 269517.0, 286041.0, 300273.0, 306378.0, 309806.0, 317536.0, 323855.0, 326088.0, 331101.0, 345425.0, 367726.0, 375778.0, 376961.0, 368647.0, 341791.0, 310063.0, 278638.0, 265609.0, 264111.0, 257826.0, 253294.0, 251050.0, 254141.0, 296257.0, 352567.0, 377714.0, 382358.0, 379233.0, 372872.0, 368619.0, 363373.0, 360636.0, 364320.0, 381927.0, 405208.0, 408541.0, 406159.0, 396950.0, 362597.0, 325732.0]\n",
      "166\n"
     ]
    }
   ],
   "source": [
    "demand = []\n",
    "j = 0\n",
    "k =1 \n",
    "for i in df['demand'] :\n",
    "    j = j+i\n",
    "    if k<12:\n",
    "        k = k+1\n",
    "    else:\n",
    "        demand.append(j)\n",
    "        k = 1\n",
    "        j = 0\n",
    "print(demand)\n",
    "print(len(demand))\n"
   ]
  },
  {
   "cell_type": "code",
   "execution_count": 21,
   "id": "bf32205a",
   "metadata": {},
   "outputs": [
    {
     "name": "stdout",
     "output_type": "stream",
     "text": [
      "[289791.0, 280516.0, 277825.0, 274702.0, 285821.0, 318960.0, 358431.0, 373296.0, 372037.0, 362023.0, 358491.0, 362873.0, 359275.0, 357319.0, 359489.0, 378710.0, 398593.0, 404446.0, 398529.0, 394454.0, 369608.0, 339235.0, 309454.0, 288665.0]\n"
     ]
    }
   ],
   "source": [
    "hr = demand[:24]\n",
    "print(hr)"
   ]
  },
  {
   "cell_type": "code",
   "execution_count": 22,
   "id": "a07a3cdc",
   "metadata": {},
   "outputs": [],
   "source": [
    "df1 = pd.DataFrame(hr)"
   ]
  },
  {
   "cell_type": "code",
   "execution_count": 24,
   "id": "a676125b",
   "metadata": {},
   "outputs": [],
   "source": [
    "df1.columns= ['demand_per_hour']"
   ]
  },
  {
   "cell_type": "code",
   "execution_count": 25,
   "id": "32c67284",
   "metadata": {},
   "outputs": [
    {
     "data": {
      "text/html": [
       "<div>\n",
       "<style scoped>\n",
       "    .dataframe tbody tr th:only-of-type {\n",
       "        vertical-align: middle;\n",
       "    }\n",
       "\n",
       "    .dataframe tbody tr th {\n",
       "        vertical-align: top;\n",
       "    }\n",
       "\n",
       "    .dataframe thead th {\n",
       "        text-align: right;\n",
       "    }\n",
       "</style>\n",
       "<table border=\"1\" class=\"dataframe\">\n",
       "  <thead>\n",
       "    <tr style=\"text-align: right;\">\n",
       "      <th></th>\n",
       "      <th>demand_per_hour</th>\n",
       "    </tr>\n",
       "  </thead>\n",
       "  <tbody>\n",
       "    <tr>\n",
       "      <th>0</th>\n",
       "      <td>289791.0</td>\n",
       "    </tr>\n",
       "    <tr>\n",
       "      <th>1</th>\n",
       "      <td>280516.0</td>\n",
       "    </tr>\n",
       "    <tr>\n",
       "      <th>2</th>\n",
       "      <td>277825.0</td>\n",
       "    </tr>\n",
       "    <tr>\n",
       "      <th>3</th>\n",
       "      <td>274702.0</td>\n",
       "    </tr>\n",
       "    <tr>\n",
       "      <th>4</th>\n",
       "      <td>285821.0</td>\n",
       "    </tr>\n",
       "    <tr>\n",
       "      <th>5</th>\n",
       "      <td>318960.0</td>\n",
       "    </tr>\n",
       "    <tr>\n",
       "      <th>6</th>\n",
       "      <td>358431.0</td>\n",
       "    </tr>\n",
       "    <tr>\n",
       "      <th>7</th>\n",
       "      <td>373296.0</td>\n",
       "    </tr>\n",
       "    <tr>\n",
       "      <th>8</th>\n",
       "      <td>372037.0</td>\n",
       "    </tr>\n",
       "    <tr>\n",
       "      <th>9</th>\n",
       "      <td>362023.0</td>\n",
       "    </tr>\n",
       "    <tr>\n",
       "      <th>10</th>\n",
       "      <td>358491.0</td>\n",
       "    </tr>\n",
       "    <tr>\n",
       "      <th>11</th>\n",
       "      <td>362873.0</td>\n",
       "    </tr>\n",
       "    <tr>\n",
       "      <th>12</th>\n",
       "      <td>359275.0</td>\n",
       "    </tr>\n",
       "    <tr>\n",
       "      <th>13</th>\n",
       "      <td>357319.0</td>\n",
       "    </tr>\n",
       "    <tr>\n",
       "      <th>14</th>\n",
       "      <td>359489.0</td>\n",
       "    </tr>\n",
       "    <tr>\n",
       "      <th>15</th>\n",
       "      <td>378710.0</td>\n",
       "    </tr>\n",
       "    <tr>\n",
       "      <th>16</th>\n",
       "      <td>398593.0</td>\n",
       "    </tr>\n",
       "    <tr>\n",
       "      <th>17</th>\n",
       "      <td>404446.0</td>\n",
       "    </tr>\n",
       "    <tr>\n",
       "      <th>18</th>\n",
       "      <td>398529.0</td>\n",
       "    </tr>\n",
       "    <tr>\n",
       "      <th>19</th>\n",
       "      <td>394454.0</td>\n",
       "    </tr>\n",
       "    <tr>\n",
       "      <th>20</th>\n",
       "      <td>369608.0</td>\n",
       "    </tr>\n",
       "    <tr>\n",
       "      <th>21</th>\n",
       "      <td>339235.0</td>\n",
       "    </tr>\n",
       "    <tr>\n",
       "      <th>22</th>\n",
       "      <td>309454.0</td>\n",
       "    </tr>\n",
       "    <tr>\n",
       "      <th>23</th>\n",
       "      <td>288665.0</td>\n",
       "    </tr>\n",
       "  </tbody>\n",
       "</table>\n",
       "</div>"
      ],
      "text/plain": [
       "    demand_per_hour\n",
       "0          289791.0\n",
       "1          280516.0\n",
       "2          277825.0\n",
       "3          274702.0\n",
       "4          285821.0\n",
       "5          318960.0\n",
       "6          358431.0\n",
       "7          373296.0\n",
       "8          372037.0\n",
       "9          362023.0\n",
       "10         358491.0\n",
       "11         362873.0\n",
       "12         359275.0\n",
       "13         357319.0\n",
       "14         359489.0\n",
       "15         378710.0\n",
       "16         398593.0\n",
       "17         404446.0\n",
       "18         398529.0\n",
       "19         394454.0\n",
       "20         369608.0\n",
       "21         339235.0\n",
       "22         309454.0\n",
       "23         288665.0"
      ]
     },
     "execution_count": 25,
     "metadata": {},
     "output_type": "execute_result"
    }
   ],
   "source": [
    "df1"
   ]
  },
  {
   "cell_type": "code",
   "execution_count": 27,
   "id": "5f7ae4f0",
   "metadata": {},
   "outputs": [
    {
     "data": {
      "image/png": "[encoded data removed]",
      "text/plain": [
       "<Figure size 720x360 with 1 Axes>"
      ]
     },
     "metadata": {
      "needs_background": "light"
     },
     "output_type": "display_data"
    }
   ],
   "source": [
    "import matplotlib.pyplot as plt\n",
    "df1.plot.bar(figsize=(10,5))\n",
    "plt.title('demad for a day')\n",
    "plt.xlabel('hours')\n",
    "plt.ylabel('demand')\n",
    "plt.show()"
   ]
  },
  {
   "cell_type": "code",
   "execution_count": 28,
   "id": "6a3e5f7d",
   "metadata": {},
   "outputs": [],
   "source": [
    "df2 = pd.DataFrame(demand)"
   ]
  },
  {
   "cell_type": "code",
   "execution_count": 29,
   "id": "070f3b5a",
   "metadata": {},
   "outputs": [],
   "source": [
    "df2.columns = ['demand_for_10_days']"
   ]
  },
  {
   "cell_type": "code",
   "execution_count": 30,
   "id": "f3032b95",
   "metadata": {},
   "outputs": [
    {
     "data": {
      "text/html": [
       "<div>\n",
       "<style scoped>\n",
       "    .dataframe tbody tr th:only-of-type {\n",
       "        vertical-align: middle;\n",
       "    }\n",
       "\n",
       "    .dataframe tbody tr th {\n",
       "        vertical-align: top;\n",
       "    }\n",
       "\n",
       "    .dataframe thead th {\n",
       "        text-align: right;\n",
       "    }\n",
       "</style>\n",
       "<table border=\"1\" class=\"dataframe\">\n",
       "  <thead>\n",
       "    <tr style=\"text-align: right;\">\n",
       "      <th></th>\n",
       "      <th>demand_for_10_days</th>\n",
       "    </tr>\n",
       "  </thead>\n",
       "  <tbody>\n",
       "    <tr>\n",
       "      <th>0</th>\n",
       "      <td>289791.0</td>\n",
       "    </tr>\n",
       "    <tr>\n",
       "      <th>1</th>\n",
       "      <td>280516.0</td>\n",
       "    </tr>\n",
       "    <tr>\n",
       "      <th>2</th>\n",
       "      <td>277825.0</td>\n",
       "    </tr>\n",
       "    <tr>\n",
       "      <th>3</th>\n",
       "      <td>274702.0</td>\n",
       "    </tr>\n",
       "    <tr>\n",
       "      <th>4</th>\n",
       "      <td>285821.0</td>\n",
       "    </tr>\n",
       "    <tr>\n",
       "      <th>...</th>\n",
       "      <td>...</td>\n",
       "    </tr>\n",
       "    <tr>\n",
       "      <th>161</th>\n",
       "      <td>408541.0</td>\n",
       "    </tr>\n",
       "    <tr>\n",
       "      <th>162</th>\n",
       "      <td>406159.0</td>\n",
       "    </tr>\n",
       "    <tr>\n",
       "      <th>163</th>\n",
       "      <td>396950.0</td>\n",
       "    </tr>\n",
       "    <tr>\n",
       "      <th>164</th>\n",
       "      <td>362597.0</td>\n",
       "    </tr>\n",
       "    <tr>\n",
       "      <th>165</th>\n",
       "      <td>325732.0</td>\n",
       "    </tr>\n",
       "  </tbody>\n",
       "</table>\n",
       "<p>166 rows × 1 columns</p>\n",
       "</div>"
      ],
      "text/plain": [
       "     demand_for_10_days\n",
       "0              289791.0\n",
       "1              280516.0\n",
       "2              277825.0\n",
       "3              274702.0\n",
       "4              285821.0\n",
       "..                  ...\n",
       "161            408541.0\n",
       "162            406159.0\n",
       "163            396950.0\n",
       "164            362597.0\n",
       "165            325732.0\n",
       "\n",
       "[166 rows x 1 columns]"
      ]
     },
     "execution_count": 30,
     "metadata": {},
     "output_type": "execute_result"
    }
   ],
   "source": [
    "df2"
   ]
  },
  {
   "cell_type": "code",
   "execution_count": 31,
   "id": "1cca0ac1",
   "metadata": {},
   "outputs": [
    {
     "data": {
      "image/png": "[encoded data removed]",
      "text/plain": [
       "<Figure size 720x360 with 1 Axes>"
      ]
     },
     "metadata": {
      "needs_background": "light"
     },
     "output_type": "display_data"
    }
   ],
   "source": [
    "import matplotlib.pyplot as plt\n",
    "df2.plot.bar(figsize=(10,5))\n",
    "plt.title('demad for 10 days')\n",
    "plt.xlabel('hours')\n",
    "plt.ylabel('demand')\n",
    "plt.show()"
   ]
  },
  {
   "cell_type": "code",
   "execution_count": null,
   "id": "75e8b59d",
   "metadata": {},
   "outputs": [],
   "source": []
  }
 ],
 "metadata": {
  "kernelspec": {
   "display_name": "Python 3",
   "language": "python",
   "name": "python3"
  },
  "language_info": {
   "codemirror_mode": {
    "name": "ipython",
    "version": 3
   },
   "file_extension": ".py",
   "mimetype": "text/x-python",
   "name": "python",
   "nbconvert_exporter": "python",
   "pygments_lexer": "ipython3",
   "version": "3.8.8"
  },
  "toc": {
   "base_numbering": 1,
   "nav_menu": {},
   "number_sections": true,
   "sideBar": true,
   "skip_h1_title": false,
   "title_cell": "Table of Contents",
   "title_sidebar": "Contents",
   "toc_cell": false,
   "toc_position": {},
   "toc_section_display": true,
   "toc_window_display": false
  }
 },
 "nbformat": 4,
 "nbformat_minor": 5
}
