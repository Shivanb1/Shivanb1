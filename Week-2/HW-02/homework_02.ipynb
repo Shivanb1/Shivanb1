{
 "cells": [
  {
   "cell_type": "code",
   "execution_count": 4,
   "id": "7e2ccdde",
   "metadata": {},
   "outputs": [
    {
     "name": "stdout",
     "output_type": "stream",
     "text": [
      "3.426\n",
      "[78, 94, 91, 85, 78, 74]\n"
     ]
    },
    {
     "data": {
      "image/png": "[encoded data removed]",
      "text/plain": [
       "<Figure size 432x288 with 1 Axes>"
      ]
     },
     "metadata": {
      "needs_background": "light"
     },
     "output_type": "display_data"
    }
   ],
   "source": [
    "import random\n",
    "import statistics\n",
    "import matplotlib.pyplot as plt\n",
    "\n",
    "count_t = 500\n",
    "\n",
    "def fair_die(tr_count,count_t):\n",
    "    total = 0\n",
    "    for j in range(count_t):\n",
    "        roll = random.randint(1,6)\n",
    "        tr_count[roll-1]= tr_count[roll-1]+1\n",
    "        total = total+ roll \n",
    "        simulations=total*1.0/count_t\n",
    "    return simulations\n",
    "\n",
    "tr_count=[0,0,0,0,0,0]\n",
    "average=fair_die(tr_count,count_t)\n",
    "print(average)\n",
    "print(tr_count)\n",
    "\n",
    "\n",
    "fig = plt.figure()\n",
    "ax=plt.subplot(2,2,1)\n",
    "ax.set_ylabel('number of Counts')\n",
    "ax.set_title('Visualisation1')\n",
    "ax.set_xlabel('result')\n",
    "numbers = [1,2,3,4,5,6]\n",
    "faces = [tr_count[0],tr_count[1],tr_count[2],tr_count[3],tr_count[4],tr_count[5]]\n",
    "plt.bar(numbers,faces)\n",
    "plt.show()\n",
    "\n"
   ]
  },
  {
   "cell_type": "code",
   "execution_count": null,
   "id": "5f0771cd",
   "metadata": {},
   "outputs": [],
   "source": []
  }
 ],
 "metadata": {
  "kernelspec": {
   "display_name": "Python 3",
   "language": "python",
   "name": "python3"
  },
  "language_info": {
   "codemirror_mode": {
    "name": "ipython",
    "version": 3
   },
   "file_extension": ".py",
   "mimetype": "text/x-python",
   "name": "python",
   "nbconvert_exporter": "python",
   "pygments_lexer": "ipython3",
   "version": "3.8.8"
  }
 },
 "nbformat": 4,
 "nbformat_minor": 5
}
